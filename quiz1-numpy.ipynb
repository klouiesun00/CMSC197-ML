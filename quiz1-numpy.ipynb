{
 "cells": [
  {
   "cell_type": "markdown",
   "id": "39701bf7",
   "metadata": {},
   "source": [
    "## CMSC 197 Machine Learning - Quiz 1\n",
    "\n",
    "Submitted by Keanna Sun \n",
    "\n",
    "Sept. 25, 2022"
   ]
  },
  {
   "cell_type": "markdown",
   "id": "64b04e6f",
   "metadata": {},
   "source": [
    "Let's first populate the notebook with numpy and matplotlib using the magic fucntion."
   ]
  },
  {
   "cell_type": "code",
   "execution_count": 1,
   "id": "7308792f",
   "metadata": {},
   "outputs": [
    {
     "name": "stdout",
     "output_type": "stream",
     "text": [
      "%pylab is deprecated, use %matplotlib inline and import the required libraries.\n",
      "Populating the interactive namespace from numpy and matplotlib\n"
     ]
    }
   ],
   "source": [
    "%pylab inline"
   ]
  },
  {
   "cell_type": "markdown",
   "id": "f002a097",
   "metadata": {},
   "source": [
    "### Part 1"
   ]
  },
  {
   "cell_type": "markdown",
   "id": "ccda2cf2",
   "metadata": {},
   "source": [
    "Create two 1D arrays:\n",
    "\n",
    "- y_hat: 20 linearly spaced numbers beyween -1 and 1\n",
    "- y:  20 linearly spaced numbers between 0 and 1"
   ]
  },
  {
   "cell_type": "code",
   "execution_count": 2,
   "id": "ccb45261",
   "metadata": {},
   "outputs": [
    {
     "data": {
      "text/plain": [
       "array([-1.        , -0.89473684, -0.78947368, -0.68421053, -0.57894737,\n",
       "       -0.47368421, -0.36842105, -0.26315789, -0.15789474, -0.05263158,\n",
       "        0.05263158,  0.15789474,  0.26315789,  0.36842105,  0.47368421,\n",
       "        0.57894737,  0.68421053,  0.78947368,  0.89473684,  1.        ])"
      ]
     },
     "execution_count": 2,
     "metadata": {},
     "output_type": "execute_result"
    }
   ],
   "source": [
    "y_hat = np.linspace(-1, 1, num=20)\n",
    "y_hat"
   ]
  },
  {
   "cell_type": "code",
   "execution_count": 3,
   "id": "032db765",
   "metadata": {},
   "outputs": [
    {
     "data": {
      "text/plain": [
       "array([0.        , 0.05263158, 0.10526316, 0.15789474, 0.21052632,\n",
       "       0.26315789, 0.31578947, 0.36842105, 0.42105263, 0.47368421,\n",
       "       0.52631579, 0.57894737, 0.63157895, 0.68421053, 0.73684211,\n",
       "       0.78947368, 0.84210526, 0.89473684, 0.94736842, 1.        ])"
      ]
     },
     "execution_count": 3,
     "metadata": {},
     "output_type": "execute_result"
    }
   ],
   "source": [
    "y = np.linspace(0, 1, num=20)\n",
    "y"
   ]
  },
  {
   "cell_type": "markdown",
   "id": "e4940550",
   "metadata": {},
   "source": [
    "Compute for the <u>shape</u> and <u>dimension</u> of each array."
   ]
  },
  {
   "cell_type": "code",
   "execution_count": 4,
   "id": "2704850a",
   "metadata": {},
   "outputs": [
    {
     "data": {
      "text/plain": [
       "(20,)"
      ]
     },
     "execution_count": 4,
     "metadata": {},
     "output_type": "execute_result"
    }
   ],
   "source": [
    "y_hat.shape"
   ]
  },
  {
   "cell_type": "code",
   "execution_count": 5,
   "id": "bed11421",
   "metadata": {},
   "outputs": [
    {
     "data": {
      "text/plain": [
       "(20,)"
      ]
     },
     "execution_count": 5,
     "metadata": {},
     "output_type": "execute_result"
    }
   ],
   "source": [
    "y.shape"
   ]
  },
  {
   "cell_type": "code",
   "execution_count": 6,
   "id": "2bdc4470",
   "metadata": {},
   "outputs": [
    {
     "data": {
      "text/plain": [
       "1"
      ]
     },
     "execution_count": 6,
     "metadata": {},
     "output_type": "execute_result"
    }
   ],
   "source": [
    "y_hat.ndim"
   ]
  },
  {
   "cell_type": "code",
   "execution_count": 7,
   "id": "326336e2",
   "metadata": {},
   "outputs": [
    {
     "data": {
      "text/plain": [
       "1"
      ]
     },
     "execution_count": 7,
     "metadata": {},
     "output_type": "execute_result"
    }
   ],
   "source": [
    "y.ndim"
   ]
  },
  {
   "cell_type": "markdown",
   "id": "6f6f0c9b",
   "metadata": {},
   "source": [
    "Next, create functions for each of the following loss functions:\n",
    "- Mean Squared Error\n",
    "- Mean Absolute Error\n",
    "- Mean Squared Logarithmic Error\n",
    "- Mean Absolute Percentage Error"
   ]
  },
  {
   "attachments": {
    "image.png": {
     "image/png": "[encoded data removed]"
    }
   },
   "cell_type": "markdown",
   "id": "e0c0f436",
   "metadata": {},
   "source": [
    "#### Mean Squared Error\n",
    "Also called the residual sum of squares\n",
    "![image.png](attachment:image.png)"
   ]
  },
  {
   "cell_type": "code",
   "execution_count": 9,
   "id": "a3aeba9e",
   "metadata": {},
   "outputs": [],
   "source": [
    "def mse(y, y_hat):\n",
    "    squared_sum = sum((y_hat - y) ** 2)\n",
    "    loss = squared_sum / len(y)\n",
    "    return loss"
   ]
  },
  {
   "cell_type": "code",
   "execution_count": 10,
   "id": "eb66da6a",
   "metadata": {},
   "outputs": [
    {
     "name": "stdout",
     "output_type": "stream",
     "text": [
      "0.3421052631578948\n"
     ]
    }
   ],
   "source": [
    "print(mse(y, y_hat))"
   ]
  },
  {
   "cell_type": "markdown",
   "id": "4c0dde9b",
   "metadata": {},
   "source": [
    "The loss is 0.3421 when mean squared error is used."
   ]
  },
  {
   "attachments": {
    "image.png": {
     "image/png": "[encoded data removed]"
    }
   },
   "cell_type": "markdown",
   "id": "9c2a627c",
   "metadata": {},
   "source": [
    "#### Mean Absolute Error\n",
    "![image.png](attachment:image.png)"
   ]
  },
  {
   "cell_type": "code",
   "execution_count": 11,
   "id": "41da90ff",
   "metadata": {},
   "outputs": [],
   "source": [
    "def mae(y, y_hat):\n",
    "    loss = sum(abs(y_hat - y)) / len(y)\n",
    "    return loss"
   ]
  },
  {
   "cell_type": "code",
   "execution_count": 12,
   "id": "9e11235c",
   "metadata": {},
   "outputs": [
    {
     "name": "stdout",
     "output_type": "stream",
     "text": [
      "0.4999999999999999\n"
     ]
    }
   ],
   "source": [
    "print(mae(y, y_hat))"
   ]
  },
  {
   "cell_type": "markdown",
   "id": "8abe4542",
   "metadata": {},
   "source": [
    "The loss is approximately 0.5 when mean absolute error is used."
   ]
  },
  {
   "attachments": {
    "image.png": {
     "image/png": "[encoded data removed]"
    }
   },
   "cell_type": "markdown",
   "id": "33bebc8c",
   "metadata": {},
   "source": [
    "#### Mean Squared Logarithmic Error\n",
    "![image.png](attachment:image.png)"
   ]
  },
  {
   "cell_type": "code",
   "execution_count": 8,
   "id": "abc2cab8",
   "metadata": {},
   "outputs": [],
   "source": [
    "def msle(y, y_hat):\n",
    "    loss = sum((np.log10(y_hat+1) - np.log10(y+1))**2)/ len(y)\n",
    "    return loss"
   ]
  },
  {
   "cell_type": "code",
   "execution_count": 9,
   "id": "bd205b3f",
   "metadata": {},
   "outputs": [
    {
     "name": "stdout",
     "output_type": "stream",
     "text": [
      "inf\n"
     ]
    },
    {
     "name": "stderr",
     "output_type": "stream",
     "text": [
      "C:\\Users\\DELL\\AppData\\Local\\Temp\\ipykernel_9516\\1392989668.py:2: RuntimeWarning: divide by zero encountered in log10\n",
      "  loss = sum((np.log10(y_hat+1) - np.log10(y+1))**2)/ len(y)\n"
     ]
    }
   ],
   "source": [
    "print(msle(y, y_hat))"
   ]
  },
  {
   "cell_type": "markdown",
   "id": "5a8d3c9f",
   "metadata": {},
   "source": [
    "Mean Squared logarithmic error cannot be used for this set of data because `y_hat[0]` results to a 0 when added 1 and log(0) is undefined."
   ]
  },
  {
   "attachments": {
    "image.png": {
     "image/png": "[encoded data removed]"
    }
   },
   "cell_type": "markdown",
   "id": "722e4492",
   "metadata": {},
   "source": [
    "#### Mean Absolute Percentage Error\n",
    "![image.png](attachment:image.png)"
   ]
  },
  {
   "cell_type": "code",
   "execution_count": 10,
   "id": "46ff4569",
   "metadata": {},
   "outputs": [],
   "source": [
    "def mape(y, y_hat):\n",
    "    summation = sum(abs((y_hat - y) / y))\n",
    "    loss = summation * 100 / len(y)\n",
    "    return loss"
   ]
  },
  {
   "cell_type": "code",
   "execution_count": 11,
   "id": "56ae0e00",
   "metadata": {},
   "outputs": [
    {
     "name": "stdout",
     "output_type": "stream",
     "text": [
      "inf\n"
     ]
    },
    {
     "name": "stderr",
     "output_type": "stream",
     "text": [
      "C:\\Users\\DELL\\AppData\\Local\\Temp\\ipykernel_9516\\718689269.py:2: RuntimeWarning: divide by zero encountered in true_divide\n",
      "  summation = sum(abs((y_hat - y) / y))\n"
     ]
    }
   ],
   "source": [
    "print(mape(y, y_hat))"
   ]
  },
  {
   "cell_type": "markdown",
   "id": "07539e56",
   "metadata": {},
   "source": [
    "The mean absolute percenatge error also cannot be used in this data set because `y[19]` has element 0 and this results in a divide by 0 runtime error."
   ]
  },
  {
   "cell_type": "markdown",
   "id": "b9ce926b",
   "metadata": {},
   "source": [
    "### Part 2"
   ]
  },
  {
   "cell_type": "markdown",
   "id": "89a11521",
   "metadata": {},
   "source": [
    "<i> 1. Create a 1d array M {1, 2, …16} using the arange function </i>"
   ]
  },
  {
   "cell_type": "code",
   "execution_count": 16,
   "id": "225e3d8d",
   "metadata": {},
   "outputs": [
    {
     "data": {
      "text/plain": [
       "array([ 1,  2,  3,  4,  5,  6,  7,  8,  9, 10, 11, 12, 13, 14, 15, 16])"
      ]
     },
     "execution_count": 16,
     "metadata": {},
     "output_type": "execute_result"
    }
   ],
   "source": [
    "M = np.arange(1,17)\n",
    "M"
   ]
  },
  {
   "cell_type": "markdown",
   "id": "6ffe5c8a",
   "metadata": {},
   "source": [
    "<i>2. Reshape M into 4x4 array and store it to N </i> "
   ]
  },
  {
   "cell_type": "code",
   "execution_count": 17,
   "id": "36646950",
   "metadata": {},
   "outputs": [
    {
     "data": {
      "text/plain": [
       "array([[ 1,  2,  3,  4],\n",
       "       [ 5,  6,  7,  8],\n",
       "       [ 9, 10, 11, 12],\n",
       "       [13, 14, 15, 16]])"
      ]
     },
     "execution_count": 17,
     "metadata": {},
     "output_type": "execute_result"
    }
   ],
   "source": [
    "N = np.reshape(M, (-1, 4))\n",
    "N"
   ]
  },
  {
   "cell_type": "markdown",
   "id": "cc2ba9c3",
   "metadata": {},
   "source": [
    "<i>3. Get the 2nd row of N </i>"
   ]
  },
  {
   "cell_type": "code",
   "execution_count": 18,
   "id": "2d63d994",
   "metadata": {},
   "outputs": [
    {
     "data": {
      "text/plain": [
       "array([5, 6, 7, 8])"
      ]
     },
     "execution_count": 18,
     "metadata": {},
     "output_type": "execute_result"
    }
   ],
   "source": [
    "N[1,:]"
   ]
  },
  {
   "cell_type": "markdown",
   "id": "23133a7b",
   "metadata": {},
   "source": [
    "<i>4. Get the minimum values for each column of N </i>"
   ]
  },
  {
   "cell_type": "code",
   "execution_count": 19,
   "id": "bd03812b",
   "metadata": {},
   "outputs": [
    {
     "data": {
      "text/plain": [
       "array([1, 2, 3, 4])"
      ]
     },
     "execution_count": 19,
     "metadata": {},
     "output_type": "execute_result"
    }
   ],
   "source": [
    "N.min(axis=0)"
   ]
  },
  {
   "cell_type": "markdown",
   "id": "594a2f69",
   "metadata": {},
   "source": [
    "<i> 5. Get the locations of the minimum values for each column of N</i>"
   ]
  },
  {
   "cell_type": "code",
   "execution_count": 20,
   "id": "4df8763a",
   "metadata": {},
   "outputs": [
    {
     "data": {
      "text/plain": [
       "array([0, 0, 0, 0], dtype=int64)"
      ]
     },
     "execution_count": 20,
     "metadata": {},
     "output_type": "execute_result"
    }
   ],
   "source": [
    "N.argmin(axis=0)"
   ]
  },
  {
   "cell_type": "markdown",
   "id": "9e38922f",
   "metadata": {},
   "source": [
    "<i>6. Get the average of the whole matrix </i>"
   ]
  },
  {
   "cell_type": "code",
   "execution_count": 21,
   "id": "b55e9626",
   "metadata": {},
   "outputs": [
    {
     "data": {
      "text/plain": [
       "8.5"
      ]
     },
     "execution_count": 21,
     "metadata": {},
     "output_type": "execute_result"
    }
   ],
   "source": [
    "np.mean(N)"
   ]
  },
  {
   "cell_type": "markdown",
   "id": "59cfa0ed",
   "metadata": {},
   "source": [
    "<i> 7. Create a vector V with 4 elements, each element is 1</i>"
   ]
  },
  {
   "cell_type": "code",
   "execution_count": 22,
   "id": "bfe8357e",
   "metadata": {},
   "outputs": [
    {
     "data": {
      "text/plain": [
       "array([1, 1, 1, 1])"
      ]
     },
     "execution_count": 22,
     "metadata": {},
     "output_type": "execute_result"
    }
   ],
   "source": [
    "V = np.array([1]*4)\n",
    "V"
   ]
  },
  {
   "cell_type": "markdown",
   "id": "af508009",
   "metadata": {},
   "source": [
    "<i>8. Take the dot product of N and V</i>"
   ]
  },
  {
   "cell_type": "code",
   "execution_count": 23,
   "id": "e83e1ccb",
   "metadata": {},
   "outputs": [
    {
     "data": {
      "text/plain": [
       "array([10, 26, 42, 58])"
      ]
     },
     "execution_count": 23,
     "metadata": {},
     "output_type": "execute_result"
    }
   ],
   "source": [
    "np.dot(N, V)"
   ]
  }
 ],
 "metadata": {
  "kernelspec": {
   "display_name": "Python 3 (ipykernel)",
   "language": "python",
   "name": "python3"
  },
  "language_info": {
   "codemirror_mode": {
    "name": "ipython",
    "version": 3
   },
   "file_extension": ".py",
   "mimetype": "text/x-python",
   "name": "python",
   "nbconvert_exporter": "python",
   "pygments_lexer": "ipython3",
   "version": "3.9.12"
  }
 },
 "nbformat": 4,
 "nbformat_minor": 5
}
