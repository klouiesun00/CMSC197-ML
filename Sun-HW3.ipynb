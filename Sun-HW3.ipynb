{
 "cells": [
  {
   "cell_type": "markdown",
   "id": "de5b2d95",
   "metadata": {},
   "source": [
    "Sun, Keanna Louie \n",
    "\n",
    "CMSC 197 ML"
   ]
  },
  {
   "cell_type": "markdown",
   "id": "69313b6b",
   "metadata": {},
   "source": [
    "## Linear Regression with Gradient Descent (from Scratch)\n",
    "\n",
    "Create a model for advertising data without using scikitlearn"
   ]
  },
  {
   "cell_type": "code",
   "execution_count": 1,
   "id": "532339da",
   "metadata": {},
   "outputs": [],
   "source": [
    "##### Standard Libraries #####\n",
    "import numpy as np\n",
    "import pandas as pd\n",
    "import matplotlib.pyplot as plt\n",
    "import seaborn as sns\n",
    "sns.set_style(\"whitegrid\")\n",
    "sns.set_context(\"poster\")\n",
    "\n",
    "%matplotlib inline\n",
    "\n",
    "##### For Preprocessing #####\n",
    "from sklearn.model_selection import train_test_split\n",
    "from sklearn.preprocessing import PolynomialFeatures, scale\n",
    "\n",
    "##### For Building the Model #####\n",
    "from sklearn.linear_model import LinearRegression, Lasso, Ridge\n",
    "from sklearn.pipeline import make_pipeline\n",
    "\n",
    "##### For Validation of the Model #####\n",
    "from sklearn.metrics import r2_score, mean_absolute_error, mean_squared_error\n",
    "from sklearn.model_selection import cross_val_score\n",
    "\n",
    "##### random module ######\n",
    "import random"
   ]
  },
  {
   "cell_type": "markdown",
   "id": "4806001b",
   "metadata": {},
   "source": [
    "### Step 1: Load dataset"
   ]
  },
  {
   "cell_type": "code",
   "execution_count": 2,
   "id": "445b8cf5",
   "metadata": {},
   "outputs": [
    {
     "data": {
      "text/html": [
       "<div>\n",
       "<style scoped>\n",
       "    .dataframe tbody tr th:only-of-type {\n",
       "        vertical-align: middle;\n",
       "    }\n",
       "\n",
       "    .dataframe tbody tr th {\n",
       "        vertical-align: top;\n",
       "    }\n",
       "\n",
       "    .dataframe thead th {\n",
       "        text-align: right;\n",
       "    }\n",
       "</style>\n",
       "<table border=\"1\" class=\"dataframe\">\n",
       "  <thead>\n",
       "    <tr style=\"text-align: right;\">\n",
       "      <th></th>\n",
       "      <th>TV</th>\n",
       "      <th>Radio</th>\n",
       "      <th>Newspaper</th>\n",
       "      <th>Sales</th>\n",
       "    </tr>\n",
       "  </thead>\n",
       "  <tbody>\n",
       "    <tr>\n",
       "      <th>1</th>\n",
       "      <td>230.1</td>\n",
       "      <td>37.8</td>\n",
       "      <td>69.2</td>\n",
       "      <td>22.1</td>\n",
       "    </tr>\n",
       "    <tr>\n",
       "      <th>2</th>\n",
       "      <td>44.5</td>\n",
       "      <td>39.3</td>\n",
       "      <td>45.1</td>\n",
       "      <td>10.4</td>\n",
       "    </tr>\n",
       "    <tr>\n",
       "      <th>3</th>\n",
       "      <td>17.2</td>\n",
       "      <td>45.9</td>\n",
       "      <td>69.3</td>\n",
       "      <td>9.3</td>\n",
       "    </tr>\n",
       "    <tr>\n",
       "      <th>4</th>\n",
       "      <td>151.5</td>\n",
       "      <td>41.3</td>\n",
       "      <td>58.5</td>\n",
       "      <td>18.5</td>\n",
       "    </tr>\n",
       "    <tr>\n",
       "      <th>5</th>\n",
       "      <td>180.8</td>\n",
       "      <td>10.8</td>\n",
       "      <td>58.4</td>\n",
       "      <td>12.9</td>\n",
       "    </tr>\n",
       "  </tbody>\n",
       "</table>\n",
       "</div>"
      ],
      "text/plain": [
       "      TV  Radio  Newspaper  Sales\n",
       "1  230.1   37.8       69.2   22.1\n",
       "2   44.5   39.3       45.1   10.4\n",
       "3   17.2   45.9       69.3    9.3\n",
       "4  151.5   41.3       58.5   18.5\n",
       "5  180.8   10.8       58.4   12.9"
      ]
     },
     "execution_count": 2,
     "metadata": {},
     "output_type": "execute_result"
    }
   ],
   "source": [
    "df = pd.read_csv(\"Advertising.csv\", index_col=0)\n",
    "df.head()"
   ]
  },
  {
   "cell_type": "code",
   "execution_count": 3,
   "id": "36df1b4e",
   "metadata": {},
   "outputs": [
    {
     "data": {
      "text/plain": [
       "(200, 4)"
      ]
     },
     "execution_count": 3,
     "metadata": {},
     "output_type": "execute_result"
    }
   ],
   "source": [
    "df.shape"
   ]
  },
  {
   "cell_type": "markdown",
   "id": "7ee1383e",
   "metadata": {},
   "source": [
    "<b> Insert bias column </b>"
   ]
  },
  {
   "cell_type": "code",
   "execution_count": 4,
   "id": "061709ec",
   "metadata": {},
   "outputs": [],
   "source": [
    "df.insert(0, \"Bias\", [1]*df.shape[0])"
   ]
  },
  {
   "cell_type": "code",
   "execution_count": 5,
   "id": "637ad0bc",
   "metadata": {},
   "outputs": [
    {
     "data": {
      "text/html": [
       "<div>\n",
       "<style scoped>\n",
       "    .dataframe tbody tr th:only-of-type {\n",
       "        vertical-align: middle;\n",
       "    }\n",
       "\n",
       "    .dataframe tbody tr th {\n",
       "        vertical-align: top;\n",
       "    }\n",
       "\n",
       "    .dataframe thead th {\n",
       "        text-align: right;\n",
       "    }\n",
       "</style>\n",
       "<table border=\"1\" class=\"dataframe\">\n",
       "  <thead>\n",
       "    <tr style=\"text-align: right;\">\n",
       "      <th></th>\n",
       "      <th>Bias</th>\n",
       "      <th>TV</th>\n",
       "      <th>Radio</th>\n",
       "      <th>Newspaper</th>\n",
       "      <th>Sales</th>\n",
       "    </tr>\n",
       "  </thead>\n",
       "  <tbody>\n",
       "    <tr>\n",
       "      <th>1</th>\n",
       "      <td>1</td>\n",
       "      <td>230.1</td>\n",
       "      <td>37.8</td>\n",
       "      <td>69.2</td>\n",
       "      <td>22.1</td>\n",
       "    </tr>\n",
       "    <tr>\n",
       "      <th>2</th>\n",
       "      <td>1</td>\n",
       "      <td>44.5</td>\n",
       "      <td>39.3</td>\n",
       "      <td>45.1</td>\n",
       "      <td>10.4</td>\n",
       "    </tr>\n",
       "    <tr>\n",
       "      <th>3</th>\n",
       "      <td>1</td>\n",
       "      <td>17.2</td>\n",
       "      <td>45.9</td>\n",
       "      <td>69.3</td>\n",
       "      <td>9.3</td>\n",
       "    </tr>\n",
       "    <tr>\n",
       "      <th>4</th>\n",
       "      <td>1</td>\n",
       "      <td>151.5</td>\n",
       "      <td>41.3</td>\n",
       "      <td>58.5</td>\n",
       "      <td>18.5</td>\n",
       "    </tr>\n",
       "    <tr>\n",
       "      <th>5</th>\n",
       "      <td>1</td>\n",
       "      <td>180.8</td>\n",
       "      <td>10.8</td>\n",
       "      <td>58.4</td>\n",
       "      <td>12.9</td>\n",
       "    </tr>\n",
       "  </tbody>\n",
       "</table>\n",
       "</div>"
      ],
      "text/plain": [
       "   Bias     TV  Radio  Newspaper  Sales\n",
       "1     1  230.1   37.8       69.2   22.1\n",
       "2     1   44.5   39.3       45.1   10.4\n",
       "3     1   17.2   45.9       69.3    9.3\n",
       "4     1  151.5   41.3       58.5   18.5\n",
       "5     1  180.8   10.8       58.4   12.9"
      ]
     },
     "execution_count": 5,
     "metadata": {},
     "output_type": "execute_result"
    }
   ],
   "source": [
    "df.head()"
   ]
  },
  {
   "attachments": {
    "image.png": {
     "image/png": "[encoded data removed]"
    }
   },
   "cell_type": "markdown",
   "id": "16cf9bac",
   "metadata": {},
   "source": [
    "#### General form of MLR\n",
    "![image.png](attachment:image.png)"
   ]
  },
  {
   "cell_type": "markdown",
   "id": "3288f505",
   "metadata": {},
   "source": [
    "### Step 2: Standardize Values\n",
    "\n",
    "Using preprocessing.scale and doing it from scratch"
   ]
  },
  {
   "cell_type": "code",
   "execution_count": 6,
   "id": "5937c1fa",
   "metadata": {},
   "outputs": [
    {
     "data": {
      "text/plain": [
       "Bias           int64\n",
       "TV           float64\n",
       "Radio        float64\n",
       "Newspaper    float64\n",
       "Sales        float64\n",
       "dtype: object"
      ]
     },
     "execution_count": 6,
     "metadata": {},
     "output_type": "execute_result"
    }
   ],
   "source": [
    "df.dtypes"
   ]
  },
  {
   "cell_type": "code",
   "execution_count": 7,
   "id": "08717f55",
   "metadata": {},
   "outputs": [],
   "source": [
    "# keep old means and standard deviations to destandardize later on\n",
    "TV_mean = df.TV.mean()\n",
    "TV_std =  df.TV.std()\n",
    "radio_mean =  df.Radio.mean()\n",
    "radio_std =  df.Radio.std()\n",
    "newspaper_mean =  df.Newspaper.mean()\n",
    "newspaper_std =  df.Newspaper.std()\n",
    "sales_mean =  df.Sales.mean()\n",
    "sales_std =  df.Sales.std()"
   ]
  },
  {
   "cell_type": "code",
   "execution_count": 8,
   "id": "449c2bc0",
   "metadata": {},
   "outputs": [],
   "source": [
    "df['TV'] = df.TV.apply(lambda x: (x - df.TV.mean()) /  df.TV.std())\n",
    "df['Radio'] = df.Radio.apply(lambda x: (x - df.Radio.mean()) /  df.Radio.std())\n",
    "df['Newspaper'] = df.Newspaper.apply(lambda x: (x - df.Newspaper.mean()) /  df.Newspaper.std())\n",
    "df['Sales'] = df.Sales.apply(lambda x: (x - df.Sales.mean()) /  df.Sales.std())"
   ]
  },
  {
   "cell_type": "code",
   "execution_count": 9,
   "id": "4c21cb91",
   "metadata": {},
   "outputs": [
    {
     "data": {
      "text/html": [
       "<div>\n",
       "<style scoped>\n",
       "    .dataframe tbody tr th:only-of-type {\n",
       "        vertical-align: middle;\n",
       "    }\n",
       "\n",
       "    .dataframe tbody tr th {\n",
       "        vertical-align: top;\n",
       "    }\n",
       "\n",
       "    .dataframe thead th {\n",
       "        text-align: right;\n",
       "    }\n",
       "</style>\n",
       "<table border=\"1\" class=\"dataframe\">\n",
       "  <thead>\n",
       "    <tr style=\"text-align: right;\">\n",
       "      <th></th>\n",
       "      <th>Bias</th>\n",
       "      <th>TV</th>\n",
       "      <th>Radio</th>\n",
       "      <th>Newspaper</th>\n",
       "      <th>Sales</th>\n",
       "    </tr>\n",
       "  </thead>\n",
       "  <tbody>\n",
       "    <tr>\n",
       "      <th>1</th>\n",
       "      <td>1</td>\n",
       "      <td>0.967425</td>\n",
       "      <td>0.979066</td>\n",
       "      <td>1.774493</td>\n",
       "      <td>1.548168</td>\n",
       "    </tr>\n",
       "    <tr>\n",
       "      <th>2</th>\n",
       "      <td>1</td>\n",
       "      <td>-1.194379</td>\n",
       "      <td>1.080097</td>\n",
       "      <td>0.667903</td>\n",
       "      <td>-0.694304</td>\n",
       "    </tr>\n",
       "    <tr>\n",
       "      <th>3</th>\n",
       "      <td>1</td>\n",
       "      <td>-1.512360</td>\n",
       "      <td>1.524637</td>\n",
       "      <td>1.779084</td>\n",
       "      <td>-0.905135</td>\n",
       "    </tr>\n",
       "    <tr>\n",
       "      <th>4</th>\n",
       "      <td>1</td>\n",
       "      <td>0.051919</td>\n",
       "      <td>1.214806</td>\n",
       "      <td>1.283185</td>\n",
       "      <td>0.858177</td>\n",
       "    </tr>\n",
       "    <tr>\n",
       "      <th>5</th>\n",
       "      <td>1</td>\n",
       "      <td>0.393196</td>\n",
       "      <td>-0.839507</td>\n",
       "      <td>1.278593</td>\n",
       "      <td>-0.215143</td>\n",
       "    </tr>\n",
       "    <tr>\n",
       "      <th>6</th>\n",
       "      <td>1</td>\n",
       "      <td>-1.611365</td>\n",
       "      <td>1.726701</td>\n",
       "      <td>2.040809</td>\n",
       "      <td>-1.307629</td>\n",
       "    </tr>\n",
       "    <tr>\n",
       "      <th>7</th>\n",
       "      <td>1</td>\n",
       "      <td>-1.042960</td>\n",
       "      <td>0.642293</td>\n",
       "      <td>-0.323896</td>\n",
       "      <td>-0.425974</td>\n",
       "    </tr>\n",
       "    <tr>\n",
       "      <th>8</th>\n",
       "      <td>1</td>\n",
       "      <td>-0.312652</td>\n",
       "      <td>-0.246787</td>\n",
       "      <td>-0.870303</td>\n",
       "      <td>-0.157644</td>\n",
       "    </tr>\n",
       "    <tr>\n",
       "      <th>9</th>\n",
       "      <td>1</td>\n",
       "      <td>-1.612530</td>\n",
       "      <td>-1.425491</td>\n",
       "      <td>-1.357019</td>\n",
       "      <td>-1.767624</td>\n",
       "    </tr>\n",
       "    <tr>\n",
       "      <th>10</th>\n",
       "      <td>1</td>\n",
       "      <td>0.614501</td>\n",
       "      <td>-1.391814</td>\n",
       "      <td>-0.429504</td>\n",
       "      <td>-0.655971</td>\n",
       "    </tr>\n",
       "  </tbody>\n",
       "</table>\n",
       "</div>"
      ],
      "text/plain": [
       "    Bias        TV     Radio  Newspaper     Sales\n",
       "1      1  0.967425  0.979066   1.774493  1.548168\n",
       "2      1 -1.194379  1.080097   0.667903 -0.694304\n",
       "3      1 -1.512360  1.524637   1.779084 -0.905135\n",
       "4      1  0.051919  1.214806   1.283185  0.858177\n",
       "5      1  0.393196 -0.839507   1.278593 -0.215143\n",
       "6      1 -1.611365  1.726701   2.040809 -1.307629\n",
       "7      1 -1.042960  0.642293  -0.323896 -0.425974\n",
       "8      1 -0.312652 -0.246787  -0.870303 -0.157644\n",
       "9      1 -1.612530 -1.425491  -1.357019 -1.767624\n",
       "10     1  0.614501 -1.391814  -0.429504 -0.655971"
      ]
     },
     "execution_count": 9,
     "metadata": {},
     "output_type": "execute_result"
    }
   ],
   "source": [
    "df.head(10)"
   ]
  },
  {
   "cell_type": "markdown",
   "id": "ed4038bd",
   "metadata": {},
   "source": [
    "### Step 4: Divide Data into Testing and Training\n",
    "\n",
    "Training = 0.85, testing = 0.15"
   ]
  },
  {
   "cell_type": "code",
   "execution_count": 10,
   "id": "b0946b38",
   "metadata": {},
   "outputs": [],
   "source": [
    "x = df.drop('Sales', axis=1)\n",
    "y = df.Sales"
   ]
  },
  {
   "cell_type": "code",
   "execution_count": 11,
   "id": "3b81f072",
   "metadata": {},
   "outputs": [],
   "source": [
    "x_train, x_test, y_train, y_test = train_test_split(x, y, train_size=0.85, test_size=0.15, random_state = 42)"
   ]
  },
  {
   "cell_type": "code",
   "execution_count": 12,
   "id": "78366f44",
   "metadata": {},
   "outputs": [
    {
     "name": "stdout",
     "output_type": "stream",
     "text": [
      "     Bias        TV     Radio  Newspaper\n",
      "10      1  0.614501 -1.391814  -0.429504\n",
      "19      1 -0.906682 -0.186168  -0.562662\n",
      "56      1  0.604018  1.760378   1.352060\n",
      "76      1 -1.515854  1.376457   2.702008\n",
      "151     1  1.556796 -0.630708   0.295978\n",
      "..    ...       ...       ...        ...\n",
      "107     1 -1.421508 -0.826036  -0.039213\n",
      "15      1  0.664586  0.649028   0.709228\n",
      "93      1  0.822994  0.689441   1.306143\n",
      "180     1  0.216151 -0.893391  -0.594804\n",
      "103     1  1.550972 -0.886655  -0.420320\n",
      "\n",
      "[170 rows x 4 columns]\n",
      "10    -0.655971\n",
      "19    -0.521806\n",
      "56     1.854831\n",
      "76    -1.020133\n",
      "151    0.398183\n",
      "         ...   \n",
      "107   -1.307629\n",
      "15     0.954009\n",
      "93     1.030675\n",
      "180   -0.272642\n",
      "103    0.149019\n",
      "Name: Sales, Length: 170, dtype: float64\n"
     ]
    }
   ],
   "source": [
    "print(x_train)\n",
    "print(y_train)"
   ]
  },
  {
   "cell_type": "markdown",
   "id": "24c85a77",
   "metadata": {},
   "source": [
    "### Step 5: Fitting the Model\n",
    "Defining functions that will be used to fit the model and training the model using training data."
   ]
  },
  {
   "cell_type": "code",
   "execution_count": 50,
   "id": "c6135bab",
   "metadata": {},
   "outputs": [],
   "source": [
    "def initialize_weights():\n",
    "    # generate random numbers between 0 and 1\n",
    "    random.seed(42)\n",
    "    j_0 = random.uniform(0, 1)\n",
    "    j_1 = random.uniform(0, 1)\n",
    "    j_2 = random.uniform(0, 1)\n",
    "    j_3 = random.uniform(0, 1)\n",
    "    return np.array([j_0, j_1, j_2, j_3])\n",
    "    #init_w = np.array([0.0, 0.0, 0.0, 0.0])\n",
    "    #return init_w"
   ]
  },
  {
   "cell_type": "code",
   "execution_count": 51,
   "id": "dc65ab0b",
   "metadata": {},
   "outputs": [
    {
     "data": {
      "text/plain": [
       "array([0.6394268 , 0.02501076, 0.27502932, 0.22321074])"
      ]
     },
     "execution_count": 51,
     "metadata": {},
     "output_type": "execute_result"
    }
   ],
   "source": [
    "# run to check if it produces the sae random numbers\n",
    "initialize_weights()"
   ]
  },
  {
   "cell_type": "code",
   "execution_count": 52,
   "id": "4bcfa4b4",
   "metadata": {},
   "outputs": [],
   "source": [
    "# predicted sales model that returns a vector of predicted sales\n",
    "def predict(weights, x):\n",
    "    #return init_w[0] + init_w[1]*x + init_w[2]*y + init_w[3]*z\n",
    "    return np.dot(x, weights)\n",
    "\n",
    "    #this returns the same results: return np.sum(np.multiply(weights, x), axis=1)"
   ]
  },
  {
   "cell_type": "code",
   "execution_count": 53,
   "id": "8f23c50f",
   "metadata": {},
   "outputs": [],
   "source": [
    "def compute_cost(y_hat, y):\n",
    "    # difference of predicted and squared (model(xyz) - sales)^2\n",
    "    error = (y_hat - y)\n",
    "    \n",
    "    # cost: (1/2m) * sum((y_hat - y)**2) --> (1/2m) * error.T\n",
    "    cost = (1/(2*y.shape[0])) * np.dot(error.T, error)\n",
    "    \n",
    "    return cost\n"
   ]
  },
  {
   "cell_type": "code",
   "execution_count": 54,
   "id": "e375098d",
   "metadata": {},
   "outputs": [],
   "source": [
    "def compute_gradient(y_hat, y, x):\n",
    "    # get error first\n",
    "    error = (y_hat - y)\n",
    "    \n",
    "    # partial derivative: (1/m) * sum((y_hat-y)*x)\n",
    "    partial_derivative = (np.dot(x.T, error)) / y.shape[0]\n",
    "    return partial_derivative"
   ]
  },
  {
   "cell_type": "code",
   "execution_count": 55,
   "id": "aa77fe0b",
   "metadata": {},
   "outputs": [],
   "source": [
    "def update_weights(weights, gradients, alpha):\n",
    "    \n",
    "    return weights - (alpha*gradients)\n",
    "    "
   ]
  },
  {
   "cell_type": "code",
   "execution_count": 56,
   "id": "cedcfcf5",
   "metadata": {},
   "outputs": [],
   "source": [
    "def grad_descent(x, y, iterations, alpha):\n",
    "    # variabel;s for keeping the costs and weights per iteration\n",
    "    costs_matrix = []\n",
    "    thetas_matrix = []\n",
    "    \n",
    "    # initialize random weights first\n",
    "    init_w = initialize_weights()\n",
    "    \n",
    "    for i in range(iterations):\n",
    "        \n",
    "        # get predicted sales using randomly initialized weights\n",
    "        y_hat = predict(init_w, x)\n",
    "        #print(y_hat)\n",
    "        \n",
    "        # compute cost of weights\n",
    "        costs = compute_cost(y_hat, y)\n",
    "        #print(costs)\n",
    "        \n",
    "        # compute partial derivatives of given weights\n",
    "        gradients = compute_gradient(y_hat, y, x)\n",
    "        #print(gradients)\n",
    "\n",
    "        # update value of weights\n",
    "        # alpha = 0.01       # change this \n",
    "        init_w = update_weights(init_w, gradients, alpha)\n",
    "        #print(init_w)\n",
    "        \n",
    "        # concatenate to matrices\n",
    "        costs_matrix.append(costs)\n",
    "        thetas_matrix.append(init_w)\n",
    "        \n",
    "        #print(\"{} \\t  {}\".format(init_w, costs))\n",
    "    \n",
    "    return thetas_matrix, costs_matrix\n",
    " \n",
    "    "
   ]
  },
  {
   "cell_type": "code",
   "execution_count": 57,
   "id": "5328f55f",
   "metadata": {},
   "outputs": [],
   "source": [
    "def plot_costs(cost):\n",
    "    costs = pd.DataFrame(cost, columns=['Costs'])\n",
    "    \n",
    "    # define dimensions\n",
    "    fig, ax = plt.subplots(figsize=(16, 8))\n",
    "    plt.xlabel(\"Number of Iterations\")\n",
    "    plt.ylabel(\"Cost\")\n",
    "    # call lineplot of seaborn\n",
    "    sns.lineplot(data=costs, ax=ax)\n",
    "    plt.show()"
   ]
  },
  {
   "cell_type": "markdown",
   "id": "f09d2ded",
   "metadata": {},
   "source": [
    "### Step 6: Predict y using training data and its cost"
   ]
  },
  {
   "cell_type": "markdown",
   "id": "03926b5a",
   "metadata": {},
   "source": [
    "#### Train model and get weights and costs"
   ]
  },
  {
   "cell_type": "code",
   "execution_count": 58,
   "id": "f8eca7b8",
   "metadata": {},
   "outputs": [],
   "source": [
    "weights, costs = grad_descent(x_train, y_train, 400, 0.01)"
   ]
  },
  {
   "cell_type": "code",
   "execution_count": 59,
   "id": "d6d6c979",
   "metadata": {},
   "outputs": [
    {
     "data": {
      "image/png": "[encoded data removed]",
      "text/plain": [
       "<Figure size 1152x576 with 1 Axes>"
      ]
     },
     "metadata": {
      "needs_background": "light"
     },
     "output_type": "display_data"
    }
   ],
   "source": [
    "plot_costs(costs)"
   ]
  },
  {
   "cell_type": "code",
   "execution_count": 60,
   "id": "16abe87f",
   "metadata": {},
   "outputs": [
    {
     "data": {
      "text/plain": [
       "[0.05173508641253715,\n",
       " 0.051725284667905394,\n",
       " 0.05171563841620873,\n",
       " 0.051706145059117484,\n",
       " 0.05169680204355826,\n",
       " 0.0516876068609011,\n",
       " 0.05167855704616144,\n",
       " 0.05166965017721697,\n",
       " 0.051660883874038596,\n",
       " 0.051652255797935705,\n",
       " 0.051643763650815154,\n",
       " 0.051635405174453856,\n",
       " 0.05162717814978479,\n",
       " 0.05161908039619599,\n",
       " 0.051611109770842364,\n",
       " 0.05160326416797024,\n",
       " 0.0515955415182541,\n",
       " 0.051587939788145604,\n",
       " 0.05158045697923442,\n",
       " 0.051573091127620825]"
      ]
     },
     "execution_count": 60,
     "metadata": {},
     "output_type": "execute_result"
    }
   ],
   "source": [
    "# see the last 20 costs \n",
    "costs[-20:]"
   ]
  },
  {
   "cell_type": "markdown",
   "id": "c7fd7b65",
   "metadata": {},
   "source": [
    "#### Predicted sales (and cost) for training data"
   ]
  },
  {
   "cell_type": "code",
   "execution_count": 61,
   "id": "29dcb83d",
   "metadata": {},
   "outputs": [
    {
     "data": {
      "text/plain": [
       "array([-0.27325587, -0.75318546,  1.39866291, -0.29397577,  0.82159141,\n",
       "        1.13319251, -0.01911482,  1.31420525, -0.56769379, -1.75917079,\n",
       "       -0.79868117, -0.25100881, -0.73536083, -1.08632605, -0.08372366,\n",
       "       -1.60488178, -0.86905048,  0.02368478, -0.9497049 , -0.45266378,\n",
       "        0.25916715, -0.39174638, -0.20053288, -0.58775793, -1.38298677,\n",
       "       -0.74493319, -0.84665533,  1.90447981, -1.18633122, -0.2801785 ,\n",
       "        0.69752438,  0.24298001, -0.46705557, -0.565634  ,  0.52779869,\n",
       "       -1.32392764,  1.36525167, -1.464188  , -0.75991925, -0.48771234,\n",
       "       -0.88900861, -1.38607573,  0.17611829,  0.6297526 ,  0.37200744,\n",
       "        0.42240452,  0.16627171,  1.01410338,  0.01308004,  1.31457164,\n",
       "       -0.24078303, -0.04808514, -0.92722688,  0.5583622 , -1.05374466,\n",
       "        0.27870237, -0.04159166,  1.70516983, -0.30209892,  1.68384551,\n",
       "       -1.34438325,  0.88757393,  1.81609532,  0.85951576,  0.57507196,\n",
       "        0.43434868, -0.27913691, -0.41671944,  0.55911117,  0.10910611,\n",
       "       -0.09971058, -1.16390759,  0.98794805, -0.8142485 ,  1.02059668,\n",
       "       -0.69777667, -1.28348188,  0.5162724 , -0.05472836,  0.21351143,\n",
       "       -0.58540847,  1.26930038,  1.86203477,  0.79982667,  0.71830653,\n",
       "        0.18386436,  0.55799618, -0.91112667,  0.59410621,  0.99444726,\n",
       "        0.4487869 , -1.91585182, -1.6273362 ,  0.29707723,  0.2870737 ,\n",
       "        0.47099727,  0.84375843,  1.73740749,  0.13595112,  1.20015   ,\n",
       "        0.63618543,  1.41521547, -0.66746858,  0.25474862, -0.00483922,\n",
       "       -0.78289131,  0.71568742,  0.77941242,  1.14835472,  1.00178894,\n",
       "       -0.6535632 ,  0.36688237,  1.24818157, -1.05507157, -0.47154822,\n",
       "       -1.20917208, -0.36383701,  0.18613202, -1.73752468,  0.09800869,\n",
       "        1.09565884, -0.01034956,  0.58180094, -1.9262802 , -0.97841131,\n",
       "        0.73973066,  0.10053509,  0.31586183,  1.74653702, -0.67361249,\n",
       "        2.01439335, -0.33388296, -0.12612624,  1.93774898, -0.16711236,\n",
       "        1.1616186 , -1.27170421, -0.23856042, -1.09903644,  1.47703421,\n",
       "        0.45401303, -0.34722997,  0.13327769, -0.23662261,  0.04884853,\n",
       "       -1.74477358, -1.09795175,  0.33467673, -0.73542801,  0.79803291,\n",
       "       -0.27197918,  1.25157202, -0.77193311, -0.67720886, -0.69919257,\n",
       "        0.13064028,  0.57614305, -0.37036128,  0.35391693,  0.59675819,\n",
       "       -1.09427016,  0.19142821,  0.79877182,  0.82324855, -0.60998642,\n",
       "       -1.44132485,  0.84989428,  1.00204269, -0.30815536,  0.66495228])"
      ]
     },
     "execution_count": 61,
     "metadata": {},
     "output_type": "execute_result"
    }
   ],
   "source": [
    "# used weights[-1] bcos we want to use the weights that produced the least cost\n",
    "y_hat = predict(weights[-1], x_train)\n",
    "y_hat"
   ]
  },
  {
   "cell_type": "code",
   "execution_count": 62,
   "id": "864f4a7a",
   "metadata": {},
   "outputs": [
    {
     "data": {
      "text/plain": [
       "0.051565840303299686"
      ]
     },
     "execution_count": 62,
     "metadata": {},
     "output_type": "execute_result"
    }
   ],
   "source": [
    "compute_cost(y_hat, y_train)"
   ]
  },
  {
   "cell_type": "code",
   "execution_count": 63,
   "id": "ba6200a6",
   "metadata": {},
   "outputs": [
    {
     "data": {
      "text/plain": [
       "0.10313168060659934"
      ]
     },
     "execution_count": 63,
     "metadata": {},
     "output_type": "execute_result"
    }
   ],
   "source": [
    "# check MSE \n",
    "mean_squared_error(y_train, y_hat)"
   ]
  },
  {
   "cell_type": "markdown",
   "id": "4d701088",
   "metadata": {},
   "source": [
    "### Step 7: Predict y using test data and its cost"
   ]
  },
  {
   "cell_type": "markdown",
   "id": "4dbb1f7c",
   "metadata": {},
   "source": [
    "#### Predicted sales for testing data"
   ]
  },
  {
   "cell_type": "code",
   "execution_count": 64,
   "id": "1be2f60a",
   "metadata": {},
   "outputs": [],
   "source": [
    "#weights_test, costs_test = grad_descent(x_test, y_test, 200)\n",
    "#costs_test[-20:]"
   ]
  },
  {
   "cell_type": "code",
   "execution_count": 65,
   "id": "273c4707",
   "metadata": {},
   "outputs": [
    {
     "data": {
      "text/plain": [
       "array([ 0.47007167,  1.30085072,  1.43365798, -0.6315276 ,  1.49160937,\n",
       "       -0.15429185,  1.3155401 , -1.22455779, -0.06560081,  0.22496312,\n",
       "       -0.94857087, -1.36320823,  0.12875699, -0.97446628, -0.79131445,\n",
       "       -0.32332418, -0.97986038,  0.41990775, -0.69047902,  0.89705503,\n",
       "        1.07920572, -0.08095611, -0.33471047,  1.40313554, -1.16726784,\n",
       "       -1.52546817,  1.26493914, -0.38242307, -0.89476249, -1.05263541])"
      ]
     },
     "execution_count": 65,
     "metadata": {},
     "output_type": "execute_result"
    }
   ],
   "source": [
    "y_hat_test = predict(weights[-1], x_test)\n",
    "y_hat_test"
   ]
  },
  {
   "cell_type": "code",
   "execution_count": 66,
   "id": "bb10c85d",
   "metadata": {},
   "outputs": [
    {
     "data": {
      "text/plain": [
       "0.05554248236464029"
      ]
     },
     "execution_count": 66,
     "metadata": {},
     "output_type": "execute_result"
    }
   ],
   "source": [
    "compute_cost(y_hat_test, y_test)"
   ]
  },
  {
   "cell_type": "code",
   "execution_count": 67,
   "id": "9464e60f",
   "metadata": {},
   "outputs": [
    {
     "data": {
      "text/plain": [
       "0.11108496472928057"
      ]
     },
     "execution_count": 67,
     "metadata": {},
     "output_type": "execute_result"
    }
   ],
   "source": [
    "# check MSE\n",
    "mean_squared_error(y_test, y_hat_test)"
   ]
  },
  {
   "cell_type": "markdown",
   "id": "7eac6568",
   "metadata": {},
   "source": [
    "### Step 8: De-standardize quantitative response y of both training and test data"
   ]
  },
  {
   "cell_type": "code",
   "execution_count": 68,
   "id": "fcbdd2f0",
   "metadata": {},
   "outputs": [],
   "source": [
    "df2 = pd.DataFrame()"
   ]
  },
  {
   "cell_type": "code",
   "execution_count": 69,
   "id": "624003cb",
   "metadata": {},
   "outputs": [],
   "source": [
    "df2['TV'] = df.TV.apply(lambda x: (x * TV_std + TV_mean))\n",
    "df2['Radio'] = df.Radio.apply(lambda x: (x * radio_std + radio_mean))\n",
    "df2['Newspaper'] = df.Newspaper.apply(lambda x: (x * newspaper_std + newspaper_mean))\n",
    "df2['Sales'] = df.Sales.apply(lambda x: (x * sales_std + sales_mean))"
   ]
  },
  {
   "cell_type": "code",
   "execution_count": 70,
   "id": "149a51fe",
   "metadata": {},
   "outputs": [
    {
     "data": {
      "text/html": [
       "<div>\n",
       "<style scoped>\n",
       "    .dataframe tbody tr th:only-of-type {\n",
       "        vertical-align: middle;\n",
       "    }\n",
       "\n",
       "    .dataframe tbody tr th {\n",
       "        vertical-align: top;\n",
       "    }\n",
       "\n",
       "    .dataframe thead th {\n",
       "        text-align: right;\n",
       "    }\n",
       "</style>\n",
       "<table border=\"1\" class=\"dataframe\">\n",
       "  <thead>\n",
       "    <tr style=\"text-align: right;\">\n",
       "      <th></th>\n",
       "      <th>TV</th>\n",
       "      <th>Radio</th>\n",
       "      <th>Newspaper</th>\n",
       "      <th>Sales</th>\n",
       "    </tr>\n",
       "  </thead>\n",
       "  <tbody>\n",
       "    <tr>\n",
       "      <th>1</th>\n",
       "      <td>230.1</td>\n",
       "      <td>37.8</td>\n",
       "      <td>69.2</td>\n",
       "      <td>22.1</td>\n",
       "    </tr>\n",
       "    <tr>\n",
       "      <th>2</th>\n",
       "      <td>44.5</td>\n",
       "      <td>39.3</td>\n",
       "      <td>45.1</td>\n",
       "      <td>10.4</td>\n",
       "    </tr>\n",
       "    <tr>\n",
       "      <th>3</th>\n",
       "      <td>17.2</td>\n",
       "      <td>45.9</td>\n",
       "      <td>69.3</td>\n",
       "      <td>9.3</td>\n",
       "    </tr>\n",
       "  </tbody>\n",
       "</table>\n",
       "</div>"
      ],
      "text/plain": [
       "      TV  Radio  Newspaper  Sales\n",
       "1  230.1   37.8       69.2   22.1\n",
       "2   44.5   39.3       45.1   10.4\n",
       "3   17.2   45.9       69.3    9.3"
      ]
     },
     "execution_count": 70,
     "metadata": {},
     "output_type": "execute_result"
    }
   ],
   "source": [
    "df2.head(3)"
   ]
  },
  {
   "cell_type": "code",
   "execution_count": 71,
   "id": "bab4acb7",
   "metadata": {},
   "outputs": [],
   "source": [
    "x2 = df2.drop('Sales', axis=1)\n",
    "y2 = df2.Sales"
   ]
  },
  {
   "cell_type": "code",
   "execution_count": 72,
   "id": "dd87bb9c",
   "metadata": {},
   "outputs": [],
   "source": [
    "x_train2, x_test2, y_train2, y_test2 = train_test_split(x, y, train_size=0.85, test_size=0.15, random_state = 42)"
   ]
  },
  {
   "cell_type": "code",
   "execution_count": 73,
   "id": "50ad2d80",
   "metadata": {},
   "outputs": [],
   "source": [
    "y_hat2 = predict(weights[-1], x_train2)"
   ]
  },
  {
   "cell_type": "code",
   "execution_count": 74,
   "id": "e2a6821a",
   "metadata": {},
   "outputs": [
    {
     "data": {
      "text/plain": [
       "0.051565840303299686"
      ]
     },
     "execution_count": 74,
     "metadata": {},
     "output_type": "execute_result"
    }
   ],
   "source": [
    "compute_cost(y_hat2, y_train2)"
   ]
  },
  {
   "cell_type": "code",
   "execution_count": 75,
   "id": "dbd9f45f",
   "metadata": {},
   "outputs": [],
   "source": [
    "y_hat_test2 = predict(weights[-1], x_test)"
   ]
  },
  {
   "cell_type": "code",
   "execution_count": 76,
   "id": "e53fbacb",
   "metadata": {},
   "outputs": [
    {
     "data": {
      "text/plain": [
       "0.05554248236464029"
      ]
     },
     "execution_count": 76,
     "metadata": {},
     "output_type": "execute_result"
    }
   ],
   "source": [
    "compute_cost(y_hat_test2, y_test2)"
   ]
  },
  {
   "cell_type": "code",
   "execution_count": 77,
   "id": "4be896fa",
   "metadata": {},
   "outputs": [
    {
     "data": {
      "text/plain": [
       "0.10313168060659934"
      ]
     },
     "execution_count": 77,
     "metadata": {},
     "output_type": "execute_result"
    }
   ],
   "source": [
    "mean_squared_error(y_train2, y_hat2)"
   ]
  },
  {
   "cell_type": "code",
   "execution_count": 78,
   "id": "7c443eed",
   "metadata": {},
   "outputs": [
    {
     "data": {
      "text/plain": [
       "0.11108496472928057"
      ]
     },
     "execution_count": 78,
     "metadata": {},
     "output_type": "execute_result"
    }
   ],
   "source": [
    "mean_squared_error(y_test2, y_hat_test2)"
   ]
  },
  {
   "cell_type": "markdown",
   "id": "fe6c06d4",
   "metadata": {},
   "source": [
    "The costs and MSE of the standardized and the original datasets are similar, so we can say that even if the data wasn't normalized, we could still produce similar results."
   ]
  },
  {
   "cell_type": "markdown",
   "id": "d6516abe",
   "metadata": {},
   "source": [
    "### Checking Code Against Scikit-learn OLS\n",
    "using standardized training and test data"
   ]
  },
  {
   "cell_type": "code",
   "execution_count": 79,
   "id": "99149cb7",
   "metadata": {},
   "outputs": [],
   "source": [
    "model = LinearRegression().fit(x_train, y_train)"
   ]
  },
  {
   "cell_type": "markdown",
   "id": "a0a11b3d",
   "metadata": {},
   "source": [
    "Coefficient of determination (R2)"
   ]
  },
  {
   "cell_type": "code",
   "execution_count": 80,
   "id": "4a510952",
   "metadata": {},
   "outputs": [
    {
     "data": {
      "text/plain": [
       "0.8936793584593189"
      ]
     },
     "execution_count": 80,
     "metadata": {},
     "output_type": "execute_result"
    }
   ],
   "source": [
    "r_squared = model.score(x_train, y_train)\n",
    "r_squared"
   ]
  },
  {
   "cell_type": "code",
   "execution_count": 81,
   "id": "3c71c341",
   "metadata": {},
   "outputs": [
    {
     "data": {
      "text/plain": [
       "0.9110275702091715"
      ]
     },
     "execution_count": 81,
     "metadata": {},
     "output_type": "execute_result"
    }
   ],
   "source": [
    "r_squared_test = model.score(x_test, y_test)\n",
    "r_squared_test"
   ]
  },
  {
   "cell_type": "markdown",
   "id": "d5990880",
   "metadata": {},
   "source": [
    "Test data predictions"
   ]
  },
  {
   "cell_type": "code",
   "execution_count": 82,
   "id": "2bd106e2",
   "metadata": {},
   "outputs": [
    {
     "data": {
      "text/plain": [
       "array([ 0.44441111,  1.30168679,  1.43691235, -0.66730857,  1.55533551,\n",
       "       -0.19033088,  1.34451196, -1.25613029, -0.07239572,  0.21395403,\n",
       "       -0.9477649 , -1.4143734 ,  0.04187445, -0.9794427 , -0.82941714,\n",
       "       -0.35860114, -1.02352749,  0.43360346, -0.72253191,  0.92669059,\n",
       "        1.04134773, -0.18638735, -0.32341141,  1.3765889 , -1.1785509 ,\n",
       "       -1.57241482,  1.28461088, -0.38557956, -0.92832092, -1.05226106])"
      ]
     },
     "execution_count": 82,
     "metadata": {},
     "output_type": "execute_result"
    }
   ],
   "source": [
    "predictions = model.predict(x_test)\n",
    "predictions"
   ]
  },
  {
   "cell_type": "markdown",
   "id": "3577e9f9",
   "metadata": {},
   "source": [
    "Predictions of scratch code (standardized)"
   ]
  },
  {
   "cell_type": "code",
   "execution_count": 83,
   "id": "9df2fd1c",
   "metadata": {},
   "outputs": [
    {
     "data": {
      "text/plain": [
       "array([ 0.47007167,  1.30085072,  1.43365798, -0.6315276 ,  1.49160937,\n",
       "       -0.15429185,  1.3155401 , -1.22455779, -0.06560081,  0.22496312,\n",
       "       -0.94857087, -1.36320823,  0.12875699, -0.97446628, -0.79131445,\n",
       "       -0.32332418, -0.97986038,  0.41990775, -0.69047902,  0.89705503,\n",
       "        1.07920572, -0.08095611, -0.33471047,  1.40313554, -1.16726784,\n",
       "       -1.52546817,  1.26493914, -0.38242307, -0.89476249, -1.05263541])"
      ]
     },
     "execution_count": 83,
     "metadata": {},
     "output_type": "execute_result"
    }
   ],
   "source": [
    "y_hat_test"
   ]
  },
  {
   "cell_type": "markdown",
   "id": "19a9a2c5",
   "metadata": {},
   "source": [
    "Weights given by Scikit-learn"
   ]
  },
  {
   "cell_type": "code",
   "execution_count": 84,
   "id": "023e0868",
   "metadata": {},
   "outputs": [
    {
     "data": {
      "text/plain": [
       "array([0.        , 0.73738315, 0.53630718, 0.00314254])"
      ]
     },
     "execution_count": 84,
     "metadata": {},
     "output_type": "execute_result"
    }
   ],
   "source": [
    "model.coef_"
   ]
  },
  {
   "cell_type": "markdown",
   "id": "b596ec6f",
   "metadata": {},
   "source": [
    "### QUESTIONS"
   ]
  },
  {
   "cell_type": "markdown",
   "id": "f80085e5",
   "metadata": {},
   "source": [
    "<i> 1. What are the optimal weights found by your implemented gradient descent? What are your interpretations regarding the formed linear model? </i>"
   ]
  },
  {
   "cell_type": "markdown",
   "id": "2fc682f4",
   "metadata": {},
   "source": [
    "The weights if the initialized weights are generated randomly are below"
   ]
  },
  {
   "cell_type": "code",
   "execution_count": 85,
   "id": "7733e329",
   "metadata": {},
   "outputs": [
    {
     "data": {
      "text/plain": [
       "array([0.01414984, 0.7227366 , 0.51692293, 0.02809588])"
      ]
     },
     "execution_count": 85,
     "metadata": {},
     "output_type": "execute_result"
    }
   ],
   "source": [
    "weights[-1]"
   ]
  },
  {
   "cell_type": "markdown",
   "id": "4ac5017a",
   "metadata": {},
   "source": [
    "The optimal weights if weights were initilized as 0 are:\n",
    "\n",
    "h0(x) = 0.00218526 + 0.72460531 * TV + 0.51470896 * Radio + 0.02698926 * Newspaper\n",
    "\n",
    "By looking at this linear model, you can say that TV has a bigger impact on sales as it has a bigger weight while Newspaper has the least impact on sales.\n"
   ]
  },
  {
   "cell_type": "markdown",
   "id": "d2eed2b2",
   "metadata": {},
   "source": [
    "<i> 2. Provide a scatter plot of the y_hat and y for both the train and test set. Is there a trend? Provide an r2 score (also available in sklearn). </i>"
   ]
  },
  {
   "cell_type": "markdown",
   "id": "718db09f",
   "metadata": {},
   "source": [
    "<b>y_hat vs y of training data</b>"
   ]
  },
  {
   "cell_type": "code",
   "execution_count": 86,
   "id": "82a4d348",
   "metadata": {},
   "outputs": [
    {
     "data": {
      "text/plain": [
       "0.8926671688577971"
      ]
     },
     "execution_count": 86,
     "metadata": {},
     "output_type": "execute_result"
    }
   ],
   "source": [
    "# using standardized values\n",
    "r2_score(y_train, y_hat)"
   ]
  },
  {
   "cell_type": "code",
   "execution_count": 87,
   "id": "07eda2e3",
   "metadata": {},
   "outputs": [
    {
     "data": {
      "text/plain": [
       "<AxesSubplot:title={'center':'y_hat vs y of Training Data'}, xlabel='Predicted sales', ylabel='Sales'>"
      ]
     },
     "execution_count": 87,
     "metadata": {},
     "output_type": "execute_result"
    },
    {
     "data": {
      "image/png": "[encoded data removed]",
      "text/plain": [
       "<Figure size 1152x576 with 1 Axes>"
      ]
     },
     "metadata": {
      "needs_background": "light"
     },
     "output_type": "display_data"
    }
   ],
   "source": [
    "fig, ax = plt.subplots(figsize=(16, 8))\n",
    "plt.title(\"y_hat vs y of Training Data\")\n",
    "plt.xlabel(\"Predicted sales\")\n",
    "sns.scatterplot(x=y_hat, y=y_train, ax=ax)"
   ]
  },
  {
   "cell_type": "markdown",
   "id": "875c6738",
   "metadata": {},
   "source": [
    "<b>y_hat vs y of test data</b>"
   ]
  },
  {
   "cell_type": "code",
   "execution_count": 88,
   "id": "5074e8ea",
   "metadata": {},
   "outputs": [
    {
     "data": {
      "text/plain": [
       "0.9057328737703468"
      ]
     },
     "execution_count": 88,
     "metadata": {},
     "output_type": "execute_result"
    }
   ],
   "source": [
    "r2_score(y_test, y_hat_test)"
   ]
  },
  {
   "cell_type": "code",
   "execution_count": 89,
   "id": "67042a95",
   "metadata": {},
   "outputs": [
    {
     "data": {
      "text/plain": [
       "<AxesSubplot:title={'center':'y_hat vs y of Test Data'}, xlabel='Predicted sales', ylabel='Sales'>"
      ]
     },
     "execution_count": 89,
     "metadata": {},
     "output_type": "execute_result"
    },
    {
     "data": {
      "image/png": "[encoded data removed]",
      "text/plain": [
       "<Figure size 1152x576 with 1 Axes>"
      ]
     },
     "metadata": {
      "needs_background": "light"
     },
     "output_type": "display_data"
    }
   ],
   "source": [
    "fig, ax = plt.subplots(figsize=(16, 8))\n",
    "plt.title(\"y_hat vs y of Test Data\")\n",
    "plt.xlabel(\"Predicted sales\")\n",
    "sns.scatterplot(x=y_hat_test, y=y_test, ax=ax)"
   ]
  },
  {
   "cell_type": "markdown",
   "id": "be5446f1",
   "metadata": {},
   "source": [
    "You can see that both plots approximately form a linear line, implying that when the actual sales get larger, the predicted sales get larger too. You can also observe that the data is not too scattered, so that measn the model produced by the gradient descent produces a good approximation of the response variable y (sales), except for a few outliers."
   ]
  },
  {
   "cell_type": "markdown",
   "id": "6d2c1523",
   "metadata": {},
   "source": [
    "<i> 3. What happens to the error, r2, and cost as the number of iterations increase? Show your data and proof. You can alternatively plot your result data for visualization and check until 50000 iterations or more (actually). </i>"
   ]
  },
  {
   "cell_type": "code",
   "execution_count": 90,
   "id": "fb071c79",
   "metadata": {},
   "outputs": [
    {
     "data": {
      "image/png": "[encoded data removed]",
      "text/plain": [
       "<Figure size 1152x576 with 1 Axes>"
      ]
     },
     "metadata": {
      "needs_background": "light"
     },
     "output_type": "display_data"
    }
   ],
   "source": [
    "weights2, costs2 =  grad_descent(x_train, y_train, 100, 0.01)\n",
    "plot_costs(costs2)"
   ]
  },
  {
   "cell_type": "code",
   "execution_count": 91,
   "id": "533dbda5",
   "metadata": {},
   "outputs": [
    {
     "name": "stdout",
     "output_type": "stream",
     "text": [
      "Error: \n",
      " 10    -0.546344\n",
      "19    -0.184286\n",
      "56     0.403360\n",
      "76    -1.517259\n",
      "151   -0.352394\n",
      "         ...   \n",
      "107   -0.539350\n",
      "15     0.028509\n",
      "93    -0.071377\n",
      "180   -0.160490\n",
      "103   -0.389466\n",
      "Name: Sales, Length: 170, dtype: float64\n",
      "R2:\n",
      " 0.7398554981237123\n"
     ]
    }
   ],
   "source": [
    "y_hat_100 = predict(weights2[-1], x_train)\n",
    "print(\"Error: \\n\", y_train - y_hat_100)\n",
    "print(\"R2:\\n\", r2_score(y_train, y_hat_100))"
   ]
  },
  {
   "cell_type": "code",
   "execution_count": 92,
   "id": "f2c04313",
   "metadata": {},
   "outputs": [
    {
     "data": {
      "image/png": "[encoded data removed]",
      "text/plain": [
       "<Figure size 1152x576 with 1 Axes>"
      ]
     },
     "metadata": {
      "needs_background": "light"
     },
     "output_type": "display_data"
    }
   ],
   "source": [
    "weights2, costs2 =  grad_descent(x_train, y_train, 1000, 0.01)\n",
    "plot_costs(costs2)"
   ]
  },
  {
   "cell_type": "code",
   "execution_count": 93,
   "id": "041fd43d",
   "metadata": {},
   "outputs": [
    {
     "name": "stdout",
     "output_type": "stream",
     "text": [
      "Error: \n",
      " 10    -0.362337\n",
      "19     0.248165\n",
      "56     0.460728\n",
      "76    -0.650671\n",
      "151   -0.413517\n",
      "         ...   \n",
      "107    0.182701\n",
      "15     0.113063\n",
      "93     0.048968\n",
      "180    0.048362\n",
      "103   -0.518511\n",
      "Name: Sales, Length: 170, dtype: float64\n",
      "R2:\n",
      " 0.8936788072616394\n"
     ]
    }
   ],
   "source": [
    "y_hat_1000 = predict(weights2[-1], x_train)\n",
    "r2_score(y_train, y_hat_1000)\n",
    "print(\"Error: \\n\", y_train - y_hat_1000)\n",
    "print(\"R2:\\n\", r2_score(y_train, y_hat_1000))"
   ]
  },
  {
   "cell_type": "code",
   "execution_count": 94,
   "id": "ac54a6ee",
   "metadata": {},
   "outputs": [
    {
     "data": {
      "image/png": "[encoded data removed]",
      "text/plain": [
       "<Figure size 1152x576 with 1 Axes>"
      ]
     },
     "metadata": {
      "needs_background": "light"
     },
     "output_type": "display_data"
    }
   ],
   "source": [
    "weights2, costs2 = grad_descent(x_train, y_train, 5000, 0.01)\n",
    "plot_costs(costs2)"
   ]
  },
  {
   "cell_type": "code",
   "execution_count": 95,
   "id": "70ec4a85",
   "metadata": {},
   "outputs": [
    {
     "name": "stdout",
     "output_type": "stream",
     "text": [
      "Error: \n",
      " 10    -0.361739\n",
      "19     0.247942\n",
      "56     0.460650\n",
      "76    -0.649499\n",
      "151   -0.412885\n",
      "         ...   \n",
      "107    0.183263\n",
      "15     0.113212\n",
      "93     0.049520\n",
      "180    0.048537\n",
      "103   -0.518237\n",
      "Name: Sales, Length: 170, dtype: float64\n",
      "R2:\n",
      " 0.8936793584593189\n"
     ]
    }
   ],
   "source": [
    "y_hat_5000 = predict(weights2[-1], x_train)\n",
    "r2_score(y_train, y_hat_5000)\n",
    "print(\"Error: \\n\", y_train - y_hat_5000)\n",
    "print(\"R2:\\n\", r2_score(y_train, y_hat_5000))"
   ]
  },
  {
   "cell_type": "markdown",
   "id": "c77f8d1e",
   "metadata": {},
   "source": [
    "In the plots above, you can see that as the number of iterations increase, costs get closer and closer to 0.05. The errors between y_train and the predicted y of each model also get smaller. The R2 score gets bigger as more iterations are done on the model, but between the models with 1000 and 5000 iterations, their differences are very small and negligible so we can say that 1000 iterations can more than suffice. "
   ]
  },
  {
   "cell_type": "markdown",
   "id": "2aa053c8",
   "metadata": {},
   "source": [
    "4. Once you determine the optimal number of iterations, check the effect on the cost and error as you change the learning rate. The common learning rates in machine learning include 0.1, 0.01, 0.001, 0.0001, 0.2 but you have the option to include others. Visualizethe cost function (vs the optimal number of iterations) of each learning rate in ONLY ONE PLOT. Provide your analysis."
   ]
  },
  {
   "cell_type": "code",
   "execution_count": null,
   "id": "1ed6d61b",
   "metadata": {},
   "outputs": [],
   "source": [
    "# get costs of each learning rate\n",
    "weight_1, cost_1 = grad_descent(x_train, y_train, 400, 0.1)\n",
    "weight_01, cost_01 = grad_descent(x_train, y_train, 400, 0.01)\n",
    "weight_001, cost_001 = grad_descent(x_train, y_train, 400, 0.001)\n",
    "weight_0001, cost_0001 = grad_descent(x_train, y_train, 400, 0.0001)\n",
    "weight_2, cost_2 = grad_descent(x_train, y_train, 400, 0.2)"
   ]
  },
  {
   "cell_type": "code",
   "execution_count": null,
   "id": "10d57fb3",
   "metadata": {},
   "outputs": [],
   "source": [
    "# make arrays into dataframe\n",
    "cost_1 = pd.DataFrame(cost_1, columns=['Cost'])\n",
    "cost_01 = pd.DataFrame(cost_01, columns=['Cost'])\n",
    "cost_001 = pd.DataFrame(cost_001, columns=['Cost'])\n",
    "cost_0001 = pd.DataFrame(cost_0001, columns=['Cost'])\n",
    "cost_2 = pd.DataFrame(cost_2, columns=['Cost'])\n",
    "\n",
    "# concatenate all dataframes\n",
    "df_costs = pd.concat([cost_1, cost_01, cost_001, cost_0001, cost_2], axis=1, keys=['0.1', '0.01', '0.001', '0.0001', '0.2'])"
   ]
  },
  {
   "cell_type": "code",
   "execution_count": null,
   "id": "3c835507",
   "metadata": {},
   "outputs": [],
   "source": [
    "# define dimensions\n",
    "fig, ax = plt.subplots(figsize=(16, 8))\n",
    "plt.xlabel(\"Number of Iterations\")\n",
    "plt.ylabel(\"Cost\")\n",
    "# call lineplot of seaborn\n",
    "sns.lineplot(data=df_costs, ax=ax, palette=['r', 'g', 'b', 'y', '#a1c9f4'], )\n",
    "plt.show()"
   ]
  },
  {
   "cell_type": "markdown",
   "id": "8439e9fc",
   "metadata": {},
   "source": [
    "When the learning rate is too small, such as 0.0001 or 0.001, the cost remains large for the model that gradient descent produces (for 400 iterations). Meanwhile, when the learning rate is too large, scuh as 0.2 or 0.1, the cost function returns too steep and is not the appropriate learning rate for the number of iterations provided as it takes too big of a step every iteration. If the learning rate is just right, like 0.01 for this dataset, the costs change gradually for each iteration and you can see how the cost reduces as it iterates, until it reaches a considerable minimum."
   ]
  },
  {
   "cell_type": "markdown",
   "id": "3e52721e",
   "metadata": {},
   "source": [
    "5. Is there a relationship on the learning rate and the number of iterations?"
   ]
  },
  {
   "cell_type": "markdown",
   "id": "c60b73b0",
   "metadata": {},
   "source": [
    "When learning rate is too small, you will need a lot more iterations to be able to produce a model that gives a very minimumum cost, which takes up too much time and resources. If the number of iterations is too small and the learning rate is large, gradient descent will not be able to give you a model that produces the minimum cost since it can take too big steps and skip over the minimum cost or may not even reach the minimum. \n",
    "\n",
    "When you drastically increase the number of iterations, you must considerably lower the learning rate so that the the estimated weights for each iteratio will only change gradually, and eventually reach minimum cost."
   ]
  },
  {
   "cell_type": "markdown",
   "id": "7d3133b6",
   "metadata": {},
   "source": [
    "6. Compare the results with the results of ordinary least squares function."
   ]
  },
  {
   "cell_type": "code",
   "execution_count": null,
   "id": "6495e8c7",
   "metadata": {},
   "outputs": [],
   "source": [
    "print(\"R2 score of OLS: \", r_squared)\n",
    "print(\"R2 score of gradient descent form scratch: \", r2_score(y_test, y_hat_test))"
   ]
  },
  {
   "cell_type": "code",
   "execution_count": null,
   "id": "ae9934d2",
   "metadata": {},
   "outputs": [],
   "source": [
    "print(\"OLS predictions: \", predictions)"
   ]
  },
  {
   "cell_type": "code",
   "execution_count": null,
   "id": "af818025",
   "metadata": {},
   "outputs": [],
   "source": [
    "print(\"Scratch Gradient Descent Predictions: \", y_hat_test)"
   ]
  },
  {
   "cell_type": "markdown",
   "id": "56cb6f67",
   "metadata": {},
   "source": [
    "Based on the R2 score of the OLS function of scikit-learn and of the gradient descent from scratch, you can say that the scratch code did better since it has a higher R2 score, though the difference between then is miniscule."
   ]
  },
  {
   "cell_type": "code",
   "execution_count": null,
   "id": "ab3f1d67",
   "metadata": {},
   "outputs": [],
   "source": []
  }
 ],
 "metadata": {
  "kernelspec": {
   "display_name": "Python 3 (ipykernel)",
   "language": "python",
   "name": "python3"
  },
  "language_info": {
   "codemirror_mode": {
    "name": "ipython",
    "version": 3
   },
   "file_extension": ".py",
   "mimetype": "text/x-python",
   "name": "python",
   "nbconvert_exporter": "python",
   "pygments_lexer": "ipython3",
   "version": "3.9.12"
  }
 },
 "nbformat": 4,
 "nbformat_minor": 5
}
